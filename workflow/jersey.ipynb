{
 "cells": [
  {
   "cell_type": "markdown",
   "id": "6ca407ba",
   "metadata": {},
   "source": [
    "# Jersey Order Management For Youth Hockey Teams\n",
    "\n",
    "> This project is a jupyter notebook that allows youth hockey team managers to manage their jersey orders."
   ]
  },
  {
   "cell_type": "markdown",
   "id": "4148549d",
   "metadata": {},
   "source": [
    "## Imports, Config, Auth"
   ]
  },
  {
   "cell_type": "code",
   "execution_count": null,
   "id": "669d0441",
   "metadata": {},
   "outputs": [],
   "source": [
    "# Imports\n",
    "import pandas as pd\n",
    "from IPython.display import HTML, display\n",
    "\n",
    "\n",
    "# Config\n",
    "from pathlib import Path\n",
    "import sys\n",
    "# Add project root to Python path\n",
    "project_root = str(Path.cwd().parent)\n",
    "if project_root not in sys.path:\n",
    "    sys.path.append(project_root)\n",
    "\n",
    "from config.config_manager import ConfigManager\n",
    "config = ConfigManager(test=True)\n",
    "\n",
    "import workflow.order.verification as verification\n",
    "\n",
    "def format_hyperlink_df(df):\n",
    "    # Create a copy of the dataframe to avoid modifying the original\n",
    "    df_display = df.copy()\n",
    "    \n",
    "    # Convert the link column to HTML hyperlinks\n",
    "    df_display['link'] = df_display['link'].apply(lambda x: f'<a href=\"{x}\" target=\"_blank\">Link</a>')\n",
    "    \n",
    "    # Return the formatted dataframe\n",
    "    return df_display"
   ]
  },
  {
   "cell_type": "markdown",
   "id": "1282b3fd",
   "metadata": {},
   "source": [
    "## Business Logic"
   ]
  },
  {
   "cell_type": "markdown",
   "id": "80e9ec99",
   "metadata": {},
   "source": [
    "### View All Pending Orders (*Contacted == False*)"
   ]
  },
  {
   "cell_type": "code",
   "execution_count": null,
   "id": "b469e6e3",
   "metadata": {},
   "outputs": [],
   "source": [
    "possible_pending_orders = verification.OrderVerification(config).get_pending_orders()\n",
    "possible_pending_orders = pd.DataFrame([vars(possible_order) for possible_order in possible_pending_orders])\n",
    "display(HTML(format_hyperlink_df(possible_pending_orders).to_html(escape=False)))"
   ]
  },
  {
   "cell_type": "markdown",
   "id": "369cc84a",
   "metadata": {},
   "source": [
    "### Get Next Order"
   ]
  },
  {
   "cell_type": "code",
   "execution_count": null,
   "id": "bd2e15ab",
   "metadata": {},
   "outputs": [],
   "source": [
    "next_possible_pending_order = verification.OrderVerification(config).get_next_pending_order()\n",
    "next_possible_pending_order_df = pd.DataFrame([vars(next_possible_pending_order)])\n",
    "display(HTML(format_hyperlink_df(next_possible_pending_order_df).to_html(escape=False)))"
   ]
  },
  {
   "cell_type": "markdown",
   "id": "afe30f34",
   "metadata": {},
   "source": [
    "### Generate Draft and Update Applicable gSheet Row 'contacted' Field"
   ]
  },
  {
   "cell_type": "code",
   "execution_count": null,
   "id": "d127eb11",
   "metadata": {},
   "outputs": [],
   "source": [
    "result = verification.OrderVerification(config).generate_verification_email(next_possible_pending_order)"
   ]
  }
 ],
 "metadata": {
  "kernelspec": {
   "display_name": "venv",
   "language": "python",
   "name": "python3"
  },
  "language_info": {
   "codemirror_mode": {
    "name": "ipython",
    "version": 3
   },
   "file_extension": ".py",
   "mimetype": "text/x-python",
   "name": "python",
   "nbconvert_exporter": "python",
   "pygments_lexer": "ipython3",
   "version": "3.10.12"
  }
 },
 "nbformat": 4,
 "nbformat_minor": 5
}
